{
 "cells": [
  {
   "cell_type": "code",
   "execution_count": 1,
   "metadata": {},
   "outputs": [],
   "source": [
    "import stella_lstm"
   ]
  },
  {
   "cell_type": "code",
   "execution_count": 2,
   "metadata": {},
   "outputs": [
    {
     "name": "stderr",
     "output_type": "stream",
     "text": [
      "c:\\users\\tuan\\appdata\\local\\conda\\conda\\envs\\deep\\lib\\site-packages\\h5py\\__init__.py:36: FutureWarning: Conversion of the second argument of issubdtype from `float` to `np.floating` is deprecated. In future, it will be treated as `np.float64 == np.dtype(float).type`.\n",
      "  from ._conv import register_converters as _register_converters\n",
      "Using TensorFlow backend.\n"
     ]
    }
   ],
   "source": [
    "import os, sys, inspect\n",
    "\n",
    "current_dir = os.path.dirname(os.path.abspath(inspect.getfile(inspect.currentframe())))\n",
    "parent_dir = os.path.dirname(current_dir)\n",
    "sys.path.insert(0,parent_dir)\n",
    "\n",
    "import numpy as np\n",
    "from numpy import newaxis\n",
    "from keras.layers.core import Dense, Activation, Dropout, Flatten\n",
    "from keras.layers.recurrent import LSTM\n",
    "from keras.models import Sequential\n",
    "import time #helper libraries\n",
    "\n",
    "import matplotlib.pyplot as plt"
   ]
  },
  {
   "cell_type": "code",
   "execution_count": null,
   "metadata": {},
   "outputs": [],
   "source": []
  },
  {
   "cell_type": "code",
   "execution_count": 3,
   "metadata": {},
   "outputs": [
    {
     "name": "stdout",
     "output_type": "stream",
     "text": [
      "      event_time ignore     trade_time  seller_order_id  buyer_order_id  \\\n",
      "0  1518213695334   True  1518213695332          8113161         8113114   \n",
      "1  1518213698228   True  1518213698225          8113161         8113163   \n",
      "2  1518213699673   True  1518213699675          8113161         8113164   \n",
      "3  1518213729324   True  1518213729321          8113192         8113164   \n",
      "4  1518213729324   True  1518213729321          8113192         8113165   \n",
      "\n",
      "  event_type is_buyer_market_maker    price  quantity    symbol  trade_id  \n",
      "0      trade                 False  1278.84   0.03879   BCCUSDT   1360256  \n",
      "1      trade                  True  1278.84   0.19120   BCCUSDT   1360257  \n",
      "2      trade                  True  1278.84   0.92646   BCCUSDT   1360258  \n",
      "3      trade                 False  1278.84   0.00154   BCCUSDT   1360259  \n",
      "4      trade                 False  1278.84   0.02794   BCCUSDT   1360260  \n"
     ]
    }
   ],
   "source": [
    "X_train, y_train, X_test, y_test = stella_lstm.load_data('../data/BCCUSDT.csv', sequence_length=50, future_shift=20)"
   ]
  },
  {
   "cell_type": "code",
   "execution_count": 10,
   "metadata": {},
   "outputs": [
    {
     "name": "stdout",
     "output_type": "stream",
     "text": [
      "[[ 0.00000000e+00  0.00000000e+00  0.00000000e+00  0.00000000e+00\n",
      "   0.00000000e+00  0.00000000e+00 -3.17475212e-03 -3.45625723e-03\n",
      "  -2.80723155e-03 -3.09655625e-03 -3.09655625e-03  0.00000000e+00\n",
      "  -1.73594820e-03 -1.73594820e-03 -3.60482938e-03 -2.92452535e-03\n",
      "  -2.92452535e-03 -2.92452535e-03 -2.92452535e-03  0.00000000e+00\n",
      "   0.00000000e+00  0.00000000e+00 -8.83613275e-04 -2.82287073e-03\n",
      "  -2.82287073e-03 -1.55609771e-03 -2.82287073e-03 -2.82287073e-03\n",
      "  -1.68121110e-03 -2.82287073e-03 -2.92452535e-03 -2.96362328e-03\n",
      "  -3.19821088e-03 -3.19821088e-03 -4.17565919e-03 -3.29986550e-03\n",
      "  -3.29986550e-03 -3.51881393e-03 -3.51881393e-03 -3.51881393e-03\n",
      "  -3.51881393e-03 -3.29986550e-03 -3.29986550e-03 -5.05145288e-03\n",
      "  -5.05927247e-03 -5.06709205e-03 -5.08273123e-03 -5.05145288e-03\n",
      "  -5.05145288e-03 -5.05145288e-03]\n",
      " [ 0.00000000e+00  1.90552885e-09  2.86059865e-09  2.23874941e-08\n",
      "   2.23874941e-08  3.51044127e-08  3.73168811e-08  3.73168811e-08\n",
      "   4.76164852e-08  4.76164852e-08  5.05179214e-08  5.05660041e-08\n",
      "   9.05906727e-08  9.28413439e-08  9.28413439e-08  1.02252404e-07\n",
      "   1.02252404e-07  1.02271505e-07  1.02282044e-07  1.02282044e-07\n",
      "   1.02282044e-07  1.15602303e-07  1.67920367e-07  1.70503007e-07\n",
      "   1.88414846e-07  2.08684061e-07  2.22124857e-07  2.29415662e-07\n",
      "   2.30601266e-07  2.39881909e-07  2.40022864e-07  2.52960437e-07\n",
      "   2.54495135e-07  2.67987966e-07  2.76784488e-07  2.80150285e-07\n",
      "   2.81394511e-07  2.86621706e-07  2.87917308e-07  2.89880141e-07\n",
      "   2.91167839e-07  2.91167839e-07  3.46276023e-07  3.46744336e-07\n",
      "   3.46744336e-07  3.46744336e-07  3.46744336e-07  3.50702277e-07\n",
      "   3.51629024e-07  3.61261397e-07]\n",
      " [ 0.00000000e+00 -2.00000000e+00 -2.00000000e+00  0.00000000e+00\n",
      "   0.00000000e+00  0.00000000e+00 -2.00000000e+00 -2.00000000e+00\n",
      "  -2.00000000e+00 -2.00000000e+00 -2.00000000e+00  0.00000000e+00\n",
      "  -2.00000000e+00 -2.00000000e+00 -2.00000000e+00 -2.00000000e+00\n",
      "  -2.00000000e+00  0.00000000e+00  0.00000000e+00  0.00000000e+00\n",
      "   0.00000000e+00  0.00000000e+00  0.00000000e+00 -2.00000000e+00\n",
      "  -2.00000000e+00  0.00000000e+00 -2.00000000e+00 -2.00000000e+00\n",
      "   0.00000000e+00 -2.00000000e+00 -2.00000000e+00  0.00000000e+00\n",
      "   0.00000000e+00  0.00000000e+00 -2.00000000e+00  0.00000000e+00\n",
      "   0.00000000e+00  0.00000000e+00  0.00000000e+00  0.00000000e+00\n",
      "   0.00000000e+00  0.00000000e+00  0.00000000e+00 -2.00000000e+00\n",
      "  -2.00000000e+00 -2.00000000e+00 -2.00000000e+00 -2.00000000e+00\n",
      "  -2.00000000e+00 -2.00000000e+00]]\n"
     ]
    }
   ],
   "source": [
    "print(X_train[0])"
   ]
  },
  {
   "cell_type": "code",
   "execution_count": 7,
   "metadata": {},
   "outputs": [
    {
     "name": "stdout",
     "output_type": "stream",
     "text": [
      "-0.6585000000000264\n"
     ]
    }
   ],
   "source": [
    "print(y_test[0])"
   ]
  },
  {
   "cell_type": "code",
   "execution_count": null,
   "metadata": {},
   "outputs": [],
   "source": [
    "#Step 2 Build Model\n",
    "model = Sequential()\n",
    "\n",
    "model.add(LSTM(\n",
    "    input_shape=(X_train.shape[1],X_train.shape[2]),\n",
    "    units=50,\n",
    "    return_sequences=True))\n",
    "model.add(Dropout(0.2))\n",
    "\n",
    "model.add(LSTM(\n",
    "    100,\n",
    "    return_sequences=True))\n",
    "model.add(Dropout(0.2))\n",
    "\n",
    "model.add(Flatten()) # added for dimensionality reduction\n",
    "\n",
    "model.add(Dense(\n",
    "    units=1))\n",
    "model.add(Activation('linear'))\n",
    "\n",
    "start = time.time()\n",
    "model.compile(loss='mse', optimizer='rmsprop')\n",
    "print('compilation time : ', time.time() - start)"
   ]
  },
  {
   "cell_type": "code",
   "execution_count": null,
   "metadata": {},
   "outputs": [],
   "source": [
    "#Step 3 Train the model\n",
    "model.fit(\n",
    "    X_train,\n",
    "    y_train,\n",
    "    batch_size=512,\n",
    "    epochs=5,\n",
    "    validation_split=0.05)"
   ]
  },
  {
   "cell_type": "code",
   "execution_count": null,
   "metadata": {},
   "outputs": [],
   "source": [
    "prediction = model.predict(X_test)"
   ]
  },
  {
   "cell_type": "code",
   "execution_count": null,
   "metadata": {},
   "outputs": [],
   "source": [
    "plt.plot(prediction[:500], color='b')\n",
    "plt.plot(y_test[:500], color='r')\n",
    "plt.show()"
   ]
  },
  {
   "cell_type": "code",
   "execution_count": null,
   "metadata": {},
   "outputs": [],
   "source": [
    "threshold = 0.02\n",
    "\n",
    "success = 0\n",
    "fail = 0\n",
    "\n",
    "for i in range(len(prediction)):\n",
    "    if (prediction[i] > threshold) and (y_test[i] > 0):\n",
    "        success += 1\n",
    "    elif (prediction[i] < -threshold) and (y_test[i] < 0):\n",
    "        success += 1\n",
    "    elif (prediction[i] < threshold)and (prediction[i] > -threshold):\n",
    "        pass\n",
    "    else:\n",
    "        fail += 1\n",
    "float(success / (success + fail))"
   ]
  },
  {
   "cell_type": "code",
   "execution_count": null,
   "metadata": {},
   "outputs": [],
   "source": [
    "success = 0\n",
    "fail = 0\n",
    "\n",
    "for i in range(len(prediction)):\n",
    "    if (prediction[i] > 0) and (y_test[i] > 0):\n",
    "        success += 1\n",
    "    elif (prediction[i] < 0) and (y_test[i] < 0):\n",
    "        success += 1\n",
    "    else:\n",
    "        fail += 1\n",
    "float(success / (success + fail))"
   ]
  },
  {
   "cell_type": "code",
   "execution_count": null,
   "metadata": {},
   "outputs": [],
   "source": [
    "model.save('stella_lstm_BCCUSDT.h5')"
   ]
  },
  {
   "cell_type": "code",
   "execution_count": null,
   "metadata": {},
   "outputs": [],
   "source": []
  }
 ],
 "metadata": {
  "kernelspec": {
   "display_name": "Python 3",
   "language": "python",
   "name": "python3"
  },
  "language_info": {
   "codemirror_mode": {
    "name": "ipython",
    "version": 3
   },
   "file_extension": ".py",
   "mimetype": "text/x-python",
   "name": "python",
   "nbconvert_exporter": "python",
   "pygments_lexer": "ipython3",
   "version": "3.5.4"
  }
 },
 "nbformat": 4,
 "nbformat_minor": 2
}
